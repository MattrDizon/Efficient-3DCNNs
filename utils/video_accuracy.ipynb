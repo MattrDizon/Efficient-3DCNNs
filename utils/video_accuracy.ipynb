{
 "cells": [
  {
   "cell_type": "markdown",
   "metadata": {},
   "source": [
    "Imports"
   ]
  },
  {
   "cell_type": "code",
   "execution_count": 2,
   "metadata": {},
   "outputs": [],
   "source": [
    "from eval_ucf101 import UCFclassification"
   ]
  },
  {
   "cell_type": "markdown",
   "metadata": {},
   "source": [
    "# MobileNet"
   ]
  },
  {
   "cell_type": "markdown",
   "metadata": {},
   "source": [
    "## 0.5"
   ]
  },
  {
   "cell_type": "code",
   "execution_count": 3,
   "metadata": {},
   "outputs": [
    {
     "name": "stdout",
     "output_type": "stream",
     "text": [
      "0.20588235294117646 20.59%\n",
      "0.6544117647058824 65.44%\n"
     ]
    }
   ],
   "source": [
    "ucf_classification = UCFclassification('../annotation_FSL105_30/ucf101_01.json',\n",
    "                                       '/home/matthew/Efficient-3DCNNs_ensemble_new_oldenmeth_simple/val.json',\n",
    "                                       subset='validation', top_k=1)\n",
    "ucf_classification.evaluate()\n",
    "print(ucf_classification.hit_at_k, \"{:.2%}\".format(ucf_classification.hit_at_k))\n",
    "\n",
    "ucf_classification = UCFclassification('../annotation_FSL105_30/ucf101_01.json',\n",
    "                                       '/home/matthew/Efficient-3DCNNs_ensemble_new_oldenmeth_simple/val.json',\n",
    "                                       subset='validation', top_k=5)\n",
    "ucf_classification.evaluate()\n",
    "print(ucf_classification.hit_at_k, \"{:.2%}\".format(ucf_classification.hit_at_k))"
   ]
  },
  {
   "cell_type": "markdown",
   "metadata": {},
   "source": [
    "## 1.0"
   ]
  },
  {
   "cell_type": "code",
   "execution_count": 3,
   "metadata": {},
   "outputs": [
    {
     "name": "stdout",
     "output_type": "stream",
     "text": [
      "0.21323529411764705 21.32%\n",
      "0.7941176470588235 79.41%\n"
     ]
    }
   ],
   "source": [
    "ucf_classification = UCFclassification('../annotation_FSL105_30/ucf101_01.json',\n",
    "                                       '/home/matthew/Efficient-3DCNNs/x1.0/result_mobilenet_test/val.json',\n",
    "                                       subset='validation', top_k=1)\n",
    "ucf_classification.evaluate()\n",
    "print(ucf_classification.hit_at_k, \"{:.2%}\".format(ucf_classification.hit_at_k))\n",
    "\n",
    "ucf_classification = UCFclassification('../annotation_FSL105_30/ucf101_01.json',\n",
    "                                       '/home/matthew/Efficient-3DCNNs/x1.0/result_mobilenet_test/val.json',\n",
    "                                       subset='validation', top_k=5)\n",
    "ucf_classification.evaluate()\n",
    "print(ucf_classification.hit_at_k, \"{:.2%}\".format(ucf_classification.hit_at_k))"
   ]
  },
  {
   "cell_type": "markdown",
   "metadata": {},
   "source": [
    "# ShuffleNet"
   ]
  },
  {
   "cell_type": "markdown",
   "metadata": {},
   "source": [
    "## 0.5"
   ]
  },
  {
   "cell_type": "code",
   "execution_count": 5,
   "metadata": {},
   "outputs": [
    {
     "name": "stdout",
     "output_type": "stream",
     "text": [
      "0.2867647058823529 28.68%\n",
      "0.7941176470588235 79.41%\n"
     ]
    }
   ],
   "source": [
    "ucf_classification = UCFclassification('../annotation_FSL105_30/ucf101_01.json',\n",
    "                                       '/home/matthew/Efficient-3DCNNs/result_shufflenet_bt8/val.json',\n",
    "                                       subset='validation', top_k=1)\n",
    "ucf_classification.evaluate()\n",
    "print(ucf_classification.hit_at_k, \"{:.2%}\".format(ucf_classification.hit_at_k))\n",
    "\n",
    "ucf_classification = UCFclassification('../annotation_FSL105_30/ucf101_01.json',\n",
    "                                       '/home/matthew/Efficient-3DCNNs/result_shufflenet_bt8/val.json',\n",
    "                                       subset='validation', top_k=5)\n",
    "ucf_classification.evaluate()\n",
    "print(ucf_classification.hit_at_k, \"{:.2%}\".format(ucf_classification.hit_at_k))"
   ]
  },
  {
   "cell_type": "markdown",
   "metadata": {},
   "source": [
    "## 1.0"
   ]
  },
  {
   "cell_type": "markdown",
   "metadata": {},
   "source": []
  },
  {
   "cell_type": "code",
   "execution_count": 5,
   "metadata": {},
   "outputs": [
    {
     "name": "stdout",
     "output_type": "stream",
     "text": [
      "0.2426470588235294 24.26%\n",
      "0.7426470588235294 74.26%\n"
     ]
    }
   ],
   "source": [
    "ucf_classification = UCFclassification('../annotation_FSL105_30/ucf101_01.json',\n",
    "                                       '/home/matthew/Efficient-3DCNNs/x0.5/results_shufflenet_test/val.json',\n",
    "                                       subset='validation', top_k=1)\n",
    "ucf_classification.evaluate()\n",
    "print(ucf_classification.hit_at_k, \"{:.2%}\".format(ucf_classification.hit_at_k))\n",
    "\n",
    "ucf_classification = UCFclassification('../annotation_FSL105_30/ucf101_01.json',\n",
    "                                       '/home/matthew/Efficient-3DCNNs/x0.5/results_shufflenet_test/val.json',\n",
    "                                       subset='validation', top_k=5)\n",
    "ucf_classification.evaluate()\n",
    "print(ucf_classification.hit_at_k, \"{:.2%}\".format(ucf_classification.hit_at_k))"
   ]
  },
  {
   "cell_type": "markdown",
   "metadata": {},
   "source": [
    "# Ensemble"
   ]
  },
  {
   "cell_type": "markdown",
   "metadata": {},
   "source": [
    "## 0.5"
   ]
  },
  {
   "cell_type": "code",
   "execution_count": 6,
   "metadata": {},
   "outputs": [
    {
     "name": "stdout",
     "output_type": "stream",
     "text": [
      "0.029411764705882353 2.94%\n",
      "0.08088235294117647 8.09%\n"
     ]
    }
   ],
   "source": [
    "ucf_classification = UCFclassification('../annotation_FSL105_30/ucf101_01.json',\n",
    "                                       '/home/matthew/Efficient-3DCNNs/x0.5/result_ensemble_test/val.json',\n",
    "                                       subset='validation', top_k=1)\n",
    "ucf_classification.evaluate()\n",
    "print(ucf_classification.hit_at_k, \"{:.2%}\".format(ucf_classification.hit_at_k))\n",
    "\n",
    "ucf_classification = UCFclassification('../annotation_FSL105_30/ucf101_01.json',\n",
    "                                       '/home/matthew/Efficient-3DCNNs/x0.5/result_ensemble_test/val.json',\n",
    "                                       subset='validation', top_k=5)\n",
    "ucf_classification.evaluate()\n",
    "print(ucf_classification.hit_at_k, \"{:.2%}\".format(ucf_classification.hit_at_k))"
   ]
  },
  {
   "cell_type": "markdown",
   "metadata": {},
   "source": [
    "## 1.0"
   ]
  },
  {
   "cell_type": "code",
   "execution_count": 7,
   "metadata": {},
   "outputs": [
    {
     "name": "stdout",
     "output_type": "stream",
     "text": [
      "0.03676470588235294 3.68%\n",
      "0.16176470588235295 16.18%\n"
     ]
    }
   ],
   "source": [
    "ucf_classification = UCFclassification('../annotation_FSL105_30/ucf101_01.json',\n",
    "                                       '/home/matthew/Efficient-3DCNNs/x1.0/result_ensemble_test/val.json',\n",
    "                                       subset='validation', top_k=1)\n",
    "ucf_classification.evaluate()\n",
    "print(ucf_classification.hit_at_k, \"{:.2%}\".format(ucf_classification.hit_at_k))\n",
    "\n",
    "ucf_classification = UCFclassification('../annotation_FSL105_30/ucf101_01.json',\n",
    "                                       '/home/matthew/Efficient-3DCNNs/x1.0/result_ensemble_test/val.json',\n",
    "                                       subset='validation', top_k=5)\n",
    "ucf_classification.evaluate()\n",
    "print(ucf_classification.hit_at_k, \"{:.2%}\".format(ucf_classification.hit_at_k))"
   ]
  }
 ],
 "metadata": {
  "kernelspec": {
   "display_name": "base",
   "language": "python",
   "name": "python3"
  },
  "language_info": {
   "codemirror_mode": {
    "name": "ipython",
    "version": 3
   },
   "file_extension": ".py",
   "mimetype": "text/x-python",
   "name": "python",
   "nbconvert_exporter": "python",
   "pygments_lexer": "ipython3",
   "version": "3.11.5"
  }
 },
 "nbformat": 4,
 "nbformat_minor": 2
}
