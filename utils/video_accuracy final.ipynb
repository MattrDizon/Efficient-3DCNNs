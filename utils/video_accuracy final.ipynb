{
 "cells": [
  {
   "cell_type": "markdown",
   "metadata": {},
   "source": [
    "Imports"
   ]
  },
  {
   "cell_type": "code",
   "execution_count": 1,
   "metadata": {},
   "outputs": [],
   "source": [
    "from eval_ucf101 import UCFclassification"
   ]
  },
  {
   "cell_type": "markdown",
   "metadata": {},
   "source": [
    "# MobileNet"
   ]
  },
  {
   "cell_type": "markdown",
   "metadata": {},
   "source": [
    "## 0.5"
   ]
  },
  {
   "cell_type": "code",
   "execution_count": 2,
   "metadata": {},
   "outputs": [
    {
     "name": "stdout",
     "output_type": "stream",
     "text": [
      "0.2426470588235294 24.26%\n",
      "0.75 75.00%\n"
     ]
    }
   ],
   "source": [
    "ucf_classification = UCFclassification('../annotation_FSL105_30/ucf101_01.json',\n",
    "                                       '/home/matthew/Efficient-3DCNNs/x0.5/result_mobilenet_test/val.json',\n",
    "                                       subset='validation', top_k=1)\n",
    "ucf_classification.evaluate()\n",
    "print(ucf_classification.hit_at_k, \"{:.2%}\".format(ucf_classification.hit_at_k))\n",
    "\n",
    "ucf_classification = UCFclassification('../annotation_FSL105_30/ucf101_01.json',\n",
    "                                       '/home/matthew/Efficient-3DCNNs/x0.5/result_mobilenet_test/val.json',\n",
    "                                       subset='validation', top_k=5)\n",
    "ucf_classification.evaluate()\n",
    "print(ucf_classification.hit_at_k, \"{:.2%}\".format(ucf_classification.hit_at_k))"
   ]
  },
  {
   "cell_type": "markdown",
   "metadata": {},
   "source": [
    "# ShuffleNet"
   ]
  },
  {
   "cell_type": "markdown",
   "metadata": {},
   "source": [
    "## 0.5"
   ]
  },
  {
   "cell_type": "code",
   "execution_count": 3,
   "metadata": {},
   "outputs": [
    {
     "name": "stdout",
     "output_type": "stream",
     "text": [
      "0.2647058823529412 26.47%\n",
      "0.6691176470588235 66.91%\n"
     ]
    }
   ],
   "source": [
    "ucf_classification = UCFclassification('../annotation_FSL105_30/ucf101_01.json',\n",
    "                                       '/home/matthew/Efficient-3DCNNs/x0.5/results_shufflenet_test/val.json',\n",
    "                                       subset='validation', top_k=1)\n",
    "ucf_classification.evaluate()\n",
    "print(ucf_classification.hit_at_k, \"{:.2%}\".format(ucf_classification.hit_at_k))\n",
    "\n",
    "ucf_classification = UCFclassification('../annotation_FSL105_30/ucf101_01.json',\n",
    "                                       '/home/matthew/Efficient-3DCNNs/x0.5/results_shufflenet_test/val.json',\n",
    "                                       subset='validation', top_k=5)\n",
    "ucf_classification.evaluate()\n",
    "print(ucf_classification.hit_at_k, \"{:.2%}\".format(ucf_classification.hit_at_k))"
   ]
  },
  {
   "cell_type": "markdown",
   "metadata": {},
   "source": [
    "# Ensemble"
   ]
  },
  {
   "cell_type": "markdown",
   "metadata": {},
   "source": [
    "## 0.5"
   ]
  },
  {
   "cell_type": "code",
   "execution_count": 4,
   "metadata": {},
   "outputs": [
    {
     "name": "stdout",
     "output_type": "stream",
     "text": [
      "0.029411764705882353 2.94%\n",
      "0.08088235294117647 8.09%\n"
     ]
    }
   ],
   "source": [
    "ucf_classification = UCFclassification('../annotation_FSL105_30/ucf101_01.json',\n",
    "                                       '/home/matthew/Efficient-3DCNNs/x0.5/result_ensemble_test/val.json',\n",
    "                                       subset='validation', top_k=1)\n",
    "ucf_classification.evaluate()\n",
    "print(ucf_classification.hit_at_k, \"{:.2%}\".format(ucf_classification.hit_at_k))\n",
    "\n",
    "ucf_classification = UCFclassification('../annotation_FSL105_30/ucf101_01.json',\n",
    "                                       '/home/matthew/Efficient-3DCNNs/x0.5/result_ensemble_test/val.json',\n",
    "                                       subset='validation', top_k=5)\n",
    "ucf_classification.evaluate()\n",
    "print(ucf_classification.hit_at_k, \"{:.2%}\".format(ucf_classification.hit_at_k))"
   ]
  }
 ],
 "metadata": {
  "kernelspec": {
   "display_name": "base",
   "language": "python",
   "name": "python3"
  },
  "language_info": {
   "codemirror_mode": {
    "name": "ipython",
    "version": 3
   },
   "file_extension": ".py",
   "mimetype": "text/x-python",
   "name": "python",
   "nbconvert_exporter": "python",
   "pygments_lexer": "ipython3",
   "version": "3.11.5"
  }
 },
 "nbformat": 4,
 "nbformat_minor": 2
}
