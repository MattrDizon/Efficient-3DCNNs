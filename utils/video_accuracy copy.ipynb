{
 "cells": [
  {
   "cell_type": "markdown",
   "metadata": {},
   "source": [
    "Imports"
   ]
  },
  {
   "cell_type": "code",
   "execution_count": 4,
   "metadata": {},
   "outputs": [],
   "source": [
    "from eval_ucf101 import UCFclassification"
   ]
  },
  {
   "cell_type": "code",
   "execution_count": 9,
   "metadata": {},
   "outputs": [
    {
     "name": "stdout",
     "output_type": "stream",
     "text": [
      "0.07352941176470588 7.35%\n",
      "0.16911764705882354 16.91%\n"
     ]
    }
   ],
   "source": [
    "ucf_classification = UCFclassification('../annotation_FSL105_30/ucf101_01.json',\n",
    "                                       '/home/matthew/Efficient-3DCNNs_ensemble/val.json',\n",
    "                                       subset='validation', top_k=1)\n",
    "ucf_classification.evaluate()\n",
    "print(ucf_classification.hit_at_k, \"{:.2%}\".format(ucf_classification.hit_at_k))\n",
    "\n",
    "ucf_classification = UCFclassification('../annotation_FSL105_30/ucf101_01.json',\n",
    "                                       '/home/matthew/Efficient-3DCNNs_ensemble/val.json',\n",
    "                                       subset='validation', top_k=5)\n",
    "ucf_classification.evaluate()\n",
    "print(ucf_classification.hit_at_k, \"{:.2%}\".format(ucf_classification.hit_at_k))"
   ]
  },
  {
   "cell_type": "markdown",
   "metadata": {},
   "source": [
    "# Ensemble"
   ]
  },
  {
   "cell_type": "code",
   "execution_count": 3,
   "metadata": {},
   "outputs": [
    {
     "name": "stdout",
     "output_type": "stream",
     "text": [
      "0.029411764705882353 2.94%\n",
      "0.15441176470588236 15.44%\n"
     ]
    }
   ],
   "source": [
    "ucf_classification = UCFclassification('../annotation_FSL105_30/ucf101_01.json',\n",
    "                                       '/home/matthew/Efficient-3DCNNs_ensemble_new/val.json',\n",
    "                                       subset='validation', top_k=1)\n",
    "ucf_classification.evaluate()\n",
    "print(ucf_classification.hit_at_k, \"{:.2%}\".format(ucf_classification.hit_at_k))\n",
    "\n",
    "ucf_classification = UCFclassification('../annotation_FSL105_30/ucf101_01.json',\n",
    "                                       '/home/matthew/Efficient-3DCNNs_ensemble_new/val.json',\n",
    "                                       subset='validation', top_k=5)\n",
    "ucf_classification.evaluate()\n",
    "print(ucf_classification.hit_at_k, \"{:.2%}\".format(ucf_classification.hit_at_k))"
   ]
  },
  {
   "cell_type": "code",
   "execution_count": null,
   "metadata": {},
   "outputs": [],
   "source": []
  },
  {
   "cell_type": "code",
   "execution_count": 5,
   "metadata": {},
   "outputs": [
    {
     "name": "stdout",
     "output_type": "stream",
     "text": [
      "0.16911764705882354 16.91%\n",
      "0.6176470588235294 61.76%\n"
     ]
    }
   ],
   "source": [
    "ucf_classification = UCFclassification('../annotation_FSL105_30/ucf101_01.json',\n",
    "                                       '/home/matthew/Efficient-3DCNNs_ensemble_new/val.json',\n",
    "                                       subset='validation', top_k=1)\n",
    "ucf_classification.evaluate()\n",
    "print(ucf_classification.hit_at_k, \"{:.2%}\".format(ucf_classification.hit_at_k))\n",
    "\n",
    "ucf_classification = UCFclassification('../annotation_FSL105_30/ucf101_01.json',\n",
    "                                       '/home/matthew/Efficient-3DCNNs_ensemble_new/val.json',\n",
    "                                       subset='validation', top_k=5)\n",
    "ucf_classification.evaluate()\n",
    "print(ucf_classification.hit_at_k, \"{:.2%}\".format(ucf_classification.hit_at_k))"
   ]
  }
 ],
 "metadata": {
  "kernelspec": {
   "display_name": "base",
   "language": "python",
   "name": "python3"
  },
  "language_info": {
   "codemirror_mode": {
    "name": "ipython",
    "version": 3
   },
   "file_extension": ".py",
   "mimetype": "text/x-python",
   "name": "python",
   "nbconvert_exporter": "python",
   "pygments_lexer": "ipython3",
   "version": "3.11.5"
  }
 },
 "nbformat": 4,
 "nbformat_minor": 2
}
